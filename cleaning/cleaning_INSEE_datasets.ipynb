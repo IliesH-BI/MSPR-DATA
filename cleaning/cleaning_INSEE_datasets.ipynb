{
 "cells": [
  {
   "cell_type": "code",
   "execution_count": 34,
   "metadata": {},
   "outputs": [],
   "source": [
    "import pandas as pd\n",
    "import numpy as np"
   ]
  },
  {
   "cell_type": "markdown",
   "metadata": {},
   "source": [
    "LOAD FILES"
   ]
  },
  {
   "cell_type": "code",
   "execution_count": 35,
   "metadata": {},
   "outputs": [
    {
     "name": "stderr",
     "output_type": "stream",
     "text": [
      "/Users/dldk/anaconda3/lib/python3.6/site-packages/IPython/core/interactiveshell.py:3058: DtypeWarning: Columns (0) have mixed types. Specify dtype option on import or set low_memory=False.\n",
      "  interactivity=interactivity, compiler=compiler, result=result)\n"
     ]
    }
   ],
   "source": [
    "demographie = pd.read_csv('../data/data_demographie.csv',sep=';',skiprows=2)\n",
    "education = pd.read_csv('../data/data_education.csv', sep=';')\n",
    "immobilier = pd.read_csv('../data/data_immobilier.csv',sep=';',skiprows=2)\n",
    "entreprise = pd.read_csv('../data/data_entreprise.csv',sep=';',skiprows=2)\n",
    "travail = pd.read_csv('../data/data_travail.csv',sep=';',skiprows=2)\n",
    "equipement = pd.read_csv('../data/data_equipements.csv',sep=';',skiprows=2)"
   ]
  },
  {
   "cell_type": "markdown",
   "metadata": {},
   "source": [
    "RENAME COLUMNS"
   ]
  },
  {
   "cell_type": "code",
   "execution_count": 36,
   "metadata": {},
   "outputs": [],
   "source": [
    "new_dem_col = ['code','commune','pop','1_child-25','Indice_vieillissement','density_pop', \\\n",
    "               'evol_pop','pop-15y','pop-25y','pop-64y','pop+65y','fmly_no_child-25', \\\n",
    "               'fmly_2_child-25','fmly_3_child-25','mean_familiy_size']\n",
    "\n",
    "new_edu_col =  ['code','commune','ratio_no_diploma','ratio_CAP_BEP','ratio_bac','ratio_etude_sup']\n",
    "\n",
    "new_immo_col =  ['code','commune', 'res_princ_46', 'res_princ', 'res_second', 'log_vacants', 'appt',\\\n",
    "                 'maison','propr', 'locataire', 'hlm']\n",
    "\n",
    "new_entreprise_col = ['code','commune','nb_crea_ent','nb_ent', \"part_0_sal\", \"part-10sal\", \"part+10sal\", \\\n",
    "                     \"part_agri\", \"part_indus\", \"part_const\", \"part_commerce\", \"part_admin\"]\n",
    "\n",
    "new_travail_col = ['code','commune','part_salarié', 'part_non_salarié', 'part_agri', 'part_arti', \\\n",
    "                   'part_cadre', 'part_employe', 'part_prof_inter', 'part_ouvrier', 'ta1', 'ta2', \\\n",
    "                   'ta3', 'ta_femme', 'ta_homme']\n",
    "\n",
    "new_equi_col = ['code','commune', 'hypermarché', 'pôle emploi','banques', 'poste', 'epicerie', \\\n",
    "                'boulangerie', 'boucherie', 'maternelle', 'élémentaire', 'collège', 'urgences', \\\n",
    "                'lycee', 'dentiste', 'medecin','infirmier', 'creche', 'kine', 'pharmacie', 'epahd']\n",
    "\n",
    "demographie.columns = new_dem_col\n",
    "education.columns = new_edu_col\n",
    "immobilier.columns = new_immo_col\n",
    "entreprise.columns = new_entreprise_col\n",
    "travail.columns = new_travail_col\n",
    "equipement.columns = new_equi_col"
   ]
  },
  {
   "cell_type": "markdown",
   "metadata": {},
   "source": [
    "ADD A NEW COLUMN TO DEMOGRAPHIE : SIZE OF THE CITY"
   ]
  },
  {
   "cell_type": "code",
   "execution_count": 37,
   "metadata": {},
   "outputs": [],
   "source": [
    "conditions = [\n",
    "    (demographie['pop'] < 2000),\n",
    "    (demographie['pop'] >= 2000) & (demographie['pop'] < 5000),\n",
    "    (demographie['pop'] >= 5000) & (demographie['pop'] < 20_000),\n",
    "    (demographie['pop'] >= 20_000) & (demographie['pop'] < 50_000),\n",
    "    (demographie['pop'] >= 50_000) & (demographie['pop'] < 200_000),\n",
    "    (demographie['pop'] >= 200_000)]\n",
    "choices = ['Village', 'Bourg', 'Petit ville','Ville moyenne','Grande ville','Métropole']\n",
    "demographie['type_agglo'] = np.select(conditions, choices, default='Ville')"
   ]
  },
  {
   "cell_type": "markdown",
   "metadata": {},
   "source": [
    "CHECK NA, REMOVE SOME LINES, FILL OTHERS ..."
   ]
  },
  {
   "cell_type": "code",
   "execution_count": 38,
   "metadata": {},
   "outputs": [],
   "source": [
    "def ratio_na(col):\n",
    "    ratio = len(col[col.isna()])/len(col)\n",
    "    return ratio\n",
    "\n",
    "def print_na(df):\n",
    "    for col in df:\n",
    "        print('Column ', df[col].name, 'has ',ratio_na(df[col]),'% of missing value')"
   ]
  },
  {
   "cell_type": "code",
   "execution_count": 39,
   "metadata": {},
   "outputs": [],
   "source": [
    "# We remove cities with missing values : it appears that either this town are located in Mayotte\n",
    "# Either these towns have been destroyed during WWII but still exist in INSEE database\n",
    "# Or these town are really small (less < 10 habs) and have a lot of missing values \n",
    "demographie = demographie[~demographie['1_child-25'].isna()]\n",
    "education = education[~education[\"ratio_bac\"].isna()]\n",
    "immobilier = immobilier[~immobilier[\"res_princ_46\"].isna()]\n",
    "entreprise = entreprise[~entreprise[\"part_0_sal\"].isna()]\n",
    "travail = travail[~travail[\"ta2\"].isna()]"
   ]
  },
  {
   "cell_type": "code",
   "execution_count": 40,
   "metadata": {},
   "outputs": [],
   "source": [
    "mean_old_minus_50 = demographie['Indice_vieillissement'][demographie['pop']<50].mean()\n",
    "demographie['Indice_vieillissement'].fillna(mean_old_minus_50, inplace=True)"
   ]
  },
  {
   "cell_type": "code",
   "execution_count": 41,
   "metadata": {},
   "outputs": [],
   "source": [
    "# Specific to entreprise, we put 0 default values to some relative value \n",
    "#(which are Nan because INSEE try to divide by 0)\n",
    "# Idem for travail (lot of NAN for this one)\n",
    "entreprise = entreprise.fillna(0)\n",
    "travail = travail.fillna(0)"
   ]
  },
  {
   "cell_type": "markdown",
   "metadata": {},
   "source": [
    "MERGE"
   ]
  },
  {
   "cell_type": "code",
   "execution_count": 42,
   "metadata": {},
   "outputs": [],
   "source": [
    "education = education.drop(columns=[\"commune\"])\n",
    "immobilier = immobilier.drop(columns=[\"commune\"])\n",
    "entreprise = entreprise.drop(columns=[\"commune\"])\n",
    "travail = travail.drop(columns=[\"commune\"])\n",
    "equipement = equipement.drop(columns=[\"commune\"])"
   ]
  },
  {
   "cell_type": "code",
   "execution_count": 43,
   "metadata": {},
   "outputs": [],
   "source": [
    "INSEE_datasets = demographie.merge(education, how='inner', left_on='code', right_on='code') \\\n",
    "                            .merge(immobilier, how='inner', left_on='code', right_on='code') \\\n",
    "                            .merge(entreprise, how='inner', left_on='code', right_on='code') \\\n",
    "                            .merge(travail, how='inner', left_on='code', right_on='code') \\\n",
    "                            .merge(equipement, how='inner', left_on='code', right_on='code')"
   ]
  },
  {
   "cell_type": "code",
   "execution_count": 44,
   "metadata": {},
   "outputs": [],
   "source": [
    "for col in INSEE_datasets.columns:\n",
    "    if col != \"code\" and col != \"commune\" and col != \"type_agglo\":\n",
    "        INSEE_datasets[col] = INSEE_datasets[col].astype(float)"
   ]
  },
  {
   "cell_type": "code",
   "execution_count": 45,
   "metadata": {},
   "outputs": [
    {
     "name": "stdout",
     "output_type": "stream",
     "text": [
      "Column  code has  0.0 % of missing value\n",
      "Column  commune has  0.0 % of missing value\n",
      "Column  pop has  0.0 % of missing value\n",
      "Column  1_child-25 has  0.0 % of missing value\n",
      "Column  Indice_vieillissement has  0.0 % of missing value\n",
      "Column  density_pop has  0.0 % of missing value\n",
      "Column  evol_pop has  0.0 % of missing value\n",
      "Column  pop-15y has  0.0 % of missing value\n",
      "Column  pop-25y has  0.0 % of missing value\n",
      "Column  pop-64y has  0.0 % of missing value\n",
      "Column  pop+65y has  0.0 % of missing value\n",
      "Column  fmly_no_child-25 has  0.0 % of missing value\n",
      "Column  fmly_2_child-25 has  0.0 % of missing value\n",
      "Column  fmly_3_child-25 has  0.0 % of missing value\n",
      "Column  mean_familiy_size has  0.0 % of missing value\n",
      "Column  type_agglo has  0.0 % of missing value\n",
      "Column  ratio_no_diploma has  0.0 % of missing value\n",
      "Column  ratio_CAP_BEP has  0.0 % of missing value\n",
      "Column  ratio_bac has  0.0 % of missing value\n",
      "Column  ratio_etude_sup has  0.0 % of missing value\n",
      "Column  res_princ_46 has  0.0 % of missing value\n",
      "Column  res_princ has  0.0 % of missing value\n",
      "Column  res_second has  0.0 % of missing value\n",
      "Column  log_vacants has  0.0 % of missing value\n",
      "Column  appt has  0.0 % of missing value\n",
      "Column  maison has  0.0 % of missing value\n",
      "Column  propr has  0.0 % of missing value\n",
      "Column  locataire has  0.0 % of missing value\n",
      "Column  hlm has  0.0 % of missing value\n",
      "Column  nb_crea_ent has  0.0 % of missing value\n",
      "Column  nb_ent has  0.0 % of missing value\n",
      "Column  part_0_sal has  0.0 % of missing value\n",
      "Column  part-10sal has  0.0 % of missing value\n",
      "Column  part+10sal has  0.0 % of missing value\n",
      "Column  part_agri_x has  0.0 % of missing value\n",
      "Column  part_indus has  0.0 % of missing value\n",
      "Column  part_const has  0.0 % of missing value\n",
      "Column  part_commerce has  0.0 % of missing value\n",
      "Column  part_admin has  0.0 % of missing value\n",
      "Column  part_salarié has  0.0 % of missing value\n",
      "Column  part_non_salarié has  0.0 % of missing value\n",
      "Column  part_agri_y has  0.0 % of missing value\n",
      "Column  part_arti has  0.0 % of missing value\n",
      "Column  part_cadre has  0.0 % of missing value\n",
      "Column  part_employe has  0.0 % of missing value\n",
      "Column  part_prof_inter has  0.0 % of missing value\n",
      "Column  part_ouvrier has  0.0 % of missing value\n",
      "Column  ta1 has  0.0 % of missing value\n",
      "Column  ta2 has  0.0 % of missing value\n",
      "Column  ta3 has  0.0 % of missing value\n",
      "Column  ta_femme has  0.0 % of missing value\n",
      "Column  ta_homme has  0.0 % of missing value\n",
      "Column  hypermarché has  0.0 % of missing value\n",
      "Column  pôle emploi has  0.0 % of missing value\n",
      "Column  banques has  0.0 % of missing value\n",
      "Column  poste has  0.0 % of missing value\n",
      "Column  epicerie has  0.0 % of missing value\n",
      "Column  boulangerie has  0.0 % of missing value\n",
      "Column  boucherie has  0.0 % of missing value\n",
      "Column  maternelle has  0.0 % of missing value\n",
      "Column  élémentaire has  0.0 % of missing value\n",
      "Column  collège has  0.0 % of missing value\n",
      "Column  urgences has  0.0 % of missing value\n",
      "Column  lycee has  0.0 % of missing value\n",
      "Column  dentiste has  0.0 % of missing value\n",
      "Column  medecin has  0.0 % of missing value\n",
      "Column  infirmier has  0.0 % of missing value\n",
      "Column  creche has  0.0 % of missing value\n",
      "Column  kine has  0.0 % of missing value\n",
      "Column  pharmacie has  0.0 % of missing value\n",
      "Column  epahd has  0.0 % of missing value\n"
     ]
    }
   ],
   "source": [
    "print_na(INSEE_datasets)"
   ]
  },
  {
   "cell_type": "code",
   "execution_count": 46,
   "metadata": {},
   "outputs": [],
   "source": [
    "INSEE_datasets.to_csv('../data/data_INSEE_clean.csv', index=False, sep=';')"
   ]
  },
  {
   "cell_type": "code",
   "execution_count": null,
   "metadata": {},
   "outputs": [],
   "source": []
  }
 ],
 "metadata": {
  "kernelspec": {
   "display_name": "Python 3",
   "language": "python",
   "name": "python3"
  },
  "language_info": {
   "codemirror_mode": {
    "name": "ipython",
    "version": 3
   },
   "file_extension": ".py",
   "mimetype": "text/x-python",
   "name": "python",
   "nbconvert_exporter": "python",
   "pygments_lexer": "ipython3",
   "version": "3.6.8"
  }
 },
 "nbformat": 4,
 "nbformat_minor": 2
}
