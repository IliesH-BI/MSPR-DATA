{
 "cells": [
  {
   "cell_type": "code",
   "execution_count": 12,
   "metadata": {},
   "outputs": [],
   "source": [
    "import pandas as pd \n",
    "import numpy as np \n"
   ]
  },
  {
   "cell_type": "code",
   "execution_count": 13,
   "metadata": {},
   "outputs": [],
   "source": [
    "data_elections = pd.read_excel(\"../data/s_round_elect_results.xls\",skiprows=3)"
   ]
  },
  {
   "cell_type": "code",
   "execution_count": 14,
   "metadata": {},
   "outputs": [],
   "source": [
    "data_elections[\"LE PEN\"] = data_elections[\"% Voix/Exp.1\"]\n",
    "data_elections[\"MACRON\"] = data_elections[\"% Voix/Exp\"]"
   ]
  },
  {
   "cell_type": "code",
   "execution_count": 15,
   "metadata": {},
   "outputs": [],
   "source": [
    "data_elections = data_elections[[\"Libellé de la commune\", \"Code du département\", \"Code de la commune\", \"Inscrits\", \"% Abs/Ins\",\\\n",
    "                                 \"LE PEN\", \"MACRON\"]]"
   ]
  },
  {
   "cell_type": "code",
   "execution_count": 16,
   "metadata": {},
   "outputs": [
    {
     "data": {
      "text/html": [
       "<div>\n",
       "<style scoped>\n",
       "    .dataframe tbody tr th:only-of-type {\n",
       "        vertical-align: middle;\n",
       "    }\n",
       "\n",
       "    .dataframe tbody tr th {\n",
       "        vertical-align: top;\n",
       "    }\n",
       "\n",
       "    .dataframe thead th {\n",
       "        text-align: right;\n",
       "    }\n",
       "</style>\n",
       "<table border=\"1\" class=\"dataframe\">\n",
       "  <thead>\n",
       "    <tr style=\"text-align: right;\">\n",
       "      <th></th>\n",
       "      <th>Libellé de la commune</th>\n",
       "      <th>Code du département</th>\n",
       "      <th>Code de la commune</th>\n",
       "      <th>Inscrits</th>\n",
       "      <th>% Abs/Ins</th>\n",
       "      <th>LE PEN</th>\n",
       "      <th>MACRON</th>\n",
       "    </tr>\n",
       "  </thead>\n",
       "  <tbody>\n",
       "    <tr>\n",
       "      <td>0</td>\n",
       "      <td>L'Abergement-Clémenciat</td>\n",
       "      <td>1</td>\n",
       "      <td>1</td>\n",
       "      <td>598</td>\n",
       "      <td>16.72</td>\n",
       "      <td>39.96</td>\n",
       "      <td>60.04</td>\n",
       "    </tr>\n",
       "    <tr>\n",
       "      <td>1</td>\n",
       "      <td>L'Abergement-de-Varey</td>\n",
       "      <td>1</td>\n",
       "      <td>2</td>\n",
       "      <td>209</td>\n",
       "      <td>15.31</td>\n",
       "      <td>38.00</td>\n",
       "      <td>62.00</td>\n",
       "    </tr>\n",
       "    <tr>\n",
       "      <td>2</td>\n",
       "      <td>Ambérieu-en-Bugey</td>\n",
       "      <td>1</td>\n",
       "      <td>4</td>\n",
       "      <td>8586</td>\n",
       "      <td>26.93</td>\n",
       "      <td>41.11</td>\n",
       "      <td>58.89</td>\n",
       "    </tr>\n",
       "    <tr>\n",
       "      <td>3</td>\n",
       "      <td>Ambérieux-en-Dombes</td>\n",
       "      <td>1</td>\n",
       "      <td>5</td>\n",
       "      <td>1172</td>\n",
       "      <td>22.10</td>\n",
       "      <td>47.91</td>\n",
       "      <td>52.09</td>\n",
       "    </tr>\n",
       "    <tr>\n",
       "      <td>4</td>\n",
       "      <td>Ambléon</td>\n",
       "      <td>1</td>\n",
       "      <td>6</td>\n",
       "      <td>99</td>\n",
       "      <td>23.23</td>\n",
       "      <td>49.15</td>\n",
       "      <td>50.85</td>\n",
       "    </tr>\n",
       "  </tbody>\n",
       "</table>\n",
       "</div>"
      ],
      "text/plain": [
       "     Libellé de la commune Code du département  Code de la commune  Inscrits  \\\n",
       "0  L'Abergement-Clémenciat                   1                   1       598   \n",
       "1    L'Abergement-de-Varey                   1                   2       209   \n",
       "2        Ambérieu-en-Bugey                   1                   4      8586   \n",
       "3      Ambérieux-en-Dombes                   1                   5      1172   \n",
       "4                  Ambléon                   1                   6        99   \n",
       "\n",
       "   % Abs/Ins  LE PEN  MACRON  \n",
       "0      16.72   39.96   60.04  \n",
       "1      15.31   38.00   62.00  \n",
       "2      26.93   41.11   58.89  \n",
       "3      22.10   47.91   52.09  \n",
       "4      23.23   49.15   50.85  "
      ]
     },
     "execution_count": 16,
     "metadata": {},
     "output_type": "execute_result"
    }
   ],
   "source": [
    "data_elections.head()"
   ]
  },
  {
   "cell_type": "code",
   "execution_count": 17,
   "metadata": {},
   "outputs": [
    {
     "data": {
      "text/plain": [
       "array([1, 2, 3, 4, 5, 6, 7, 8, 9, 10, 11, 12, 13, 14, 15, 16, 17, 18, 19,\n",
       "       '2A', '2B', 21, 22, 23, 24, 25, 26, 27, 28, 29, 30, 31, 32, 33, 34,\n",
       "       35, 36, 37, 38, 39, 40, 41, 42, 43, 44, 45, 46, 47, 48, 49, 50, 51,\n",
       "       52, 53, 54, 55, 56, 57, 58, 59, 60, 61, 62, 63, 64, 65, 66, 67, 68,\n",
       "       69, 70, 71, 72, 73, 74, 75, 76, 77, 78, 79, 80, 81, 82, 83, 84, 85,\n",
       "       86, 87, 88, 89, 90, 91, 92, 93, 94, 95, 'ZA', 'ZB', 'ZC', 'ZD',\n",
       "       'ZM', 'ZN', 'ZP', 'ZS', 'ZW', 'ZX', 'ZZ'], dtype=object)"
      ]
     },
     "execution_count": 17,
     "metadata": {},
     "output_type": "execute_result"
    }
   ],
   "source": [
    "data_elections[\"Code du département\"].unique()"
   ]
  },
  {
   "cell_type": "markdown",
   "metadata": {},
   "source": [
    "Data type seems to differ inside an unique column (\"Code du département\"), so we format all data in string"
   ]
  },
  {
   "cell_type": "code",
   "execution_count": 18,
   "metadata": {},
   "outputs": [
    {
     "data": {
      "text/plain": [
       "array(['1', '2', '3', '4', '5', '6', '7', '8', '9', '10', '11', '12',\n",
       "       '13', '14', '15', '16', '17', '18', '19', '2A', '2B', '21', '22',\n",
       "       '23', '24', '25', '26', '27', '28', '29', '30', '31', '32', '33',\n",
       "       '34', '35', '36', '37', '38', '39', '40', '41', '42', '43', '44',\n",
       "       '45', '46', '47', '48', '49', '50', '51', '52', '53', '54', '55',\n",
       "       '56', '57', '58', '59', '60', '61', '62', '63', '64', '65', '66',\n",
       "       '67', '68', '69', '70', '71', '72', '73', '74', '75', '76', '77',\n",
       "       '78', '79', '80', '81', '82', '83', '84', '85', '86', '87', '88',\n",
       "       '89', '90', '91', '92', '93', '94', '95', 'ZA', 'ZB', 'ZC', 'ZD',\n",
       "       'ZM', 'ZN', 'ZP', 'ZS', 'ZW', 'ZX', 'ZZ'], dtype=object)"
      ]
     },
     "execution_count": 18,
     "metadata": {},
     "output_type": "execute_result"
    }
   ],
   "source": [
    "data_elections[\"Code du département\"] = data_elections[\"Code du département\"].map(lambda x : str(x))\n",
    "data_elections[\"Code du département\"].unique()"
   ]
  },
  {
   "cell_type": "markdown",
   "metadata": {},
   "source": [
    "We remove COM related data (St Pierre et Miquelon, Nouvelle-Calédonie, Polynésie, Wallis&Futuna, St-Martin) + french who vote but actual live abroad. Still, we keep data from la Réunion, la Martinique, la Guadeloupe and la Guyanne"
   ]
  },
  {
   "cell_type": "code",
   "execution_count": 19,
   "metadata": {},
   "outputs": [
    {
     "data": {
      "text/plain": [
       "array(['1', '2', '3', '4', '5', '6', '7', '8', '9', '10', '11', '12',\n",
       "       '13', '14', '15', '16', '17', '18', '19', '2A', '2B', '21', '22',\n",
       "       '23', '24', '25', '26', '27', '28', '29', '30', '31', '32', '33',\n",
       "       '34', '35', '36', '37', '38', '39', '40', '41', '42', '43', '44',\n",
       "       '45', '46', '47', '48', '49', '50', '51', '52', '53', '54', '55',\n",
       "       '56', '57', '58', '59', '60', '61', '62', '63', '64', '65', '66',\n",
       "       '67', '68', '69', '70', '71', '72', '73', '74', '75', '76', '77',\n",
       "       '78', '79', '80', '81', '82', '83', '84', '85', '86', '87', '88',\n",
       "       '89', '90', '91', '92', '93', '94', '95', 'ZA', 'ZB', 'ZC', 'ZD'],\n",
       "      dtype=object)"
      ]
     },
     "execution_count": 19,
     "metadata": {},
     "output_type": "execute_result"
    }
   ],
   "source": [
    "masque = data_elections[\"Code du département\"].isin([\"ZZ\", \"ZW\", \"ZP\", \"ZM\", \"ZN\" , \"ZS\", \"ZX\"])\n",
    "data_elections = data_elections[~masque]\n",
    "data_elections[\"Code du département\"].unique()"
   ]
  },
  {
   "cell_type": "markdown",
   "metadata": {},
   "source": [
    "Based on \"Communes\" and \"Départements\" columns, we calculate the \"INSEE\" code of a particular city. This will turn to be useful to merge different database in the futur. "
   ]
  },
  {
   "cell_type": "code",
   "execution_count": 20,
   "metadata": {},
   "outputs": [],
   "source": [
    "def format_code_commune(x):\n",
    "    if x < 10 :\n",
    "        return \"00\" + str(x)\n",
    "    if x < 100 :\n",
    "        return \"0\" + str(x)\n",
    "    else :\n",
    "        return str(x)\n",
    "def format_code_departement(x):\n",
    "    if x == '2A' or x == '2B':\n",
    "        return x\n",
    "    if x == 'ZA' or x == 'ZB' or x == 'ZC' or x == 'ZD':\n",
    "        return \"97\" \n",
    "    if int(x) < 10 :\n",
    "        return \"0\" + x \n",
    "    else :\n",
    "        return x "
   ]
  },
  {
   "cell_type": "code",
   "execution_count": 21,
   "metadata": {},
   "outputs": [],
   "source": [
    "data_elections[\"Code du département\"] = data_elections[\"Code du département\"].apply(format_code_departement)\n",
    "data_elections[\"Code de la commune\"] = data_elections[\"Code de la commune\"].apply(format_code_commune)\n",
    "data_elections[\"Code Insee\"] = data_elections[\"Code du département\"] + data_elections[\"Code de la commune\"]"
   ]
  },
  {
   "cell_type": "code",
   "execution_count": 22,
   "metadata": {},
   "outputs": [],
   "source": [
    "data_elections = data_elections.drop(columns=[\"Libellé de la commune\", \"Code du département\",\\\n",
    "                                             \"Code de la commune\"])"
   ]
  },
  {
   "cell_type": "code",
   "execution_count": 23,
   "metadata": {},
   "outputs": [],
   "source": [
    "data_elections.to_csv(\"../data/clean_s_round_elect_results.csv\", index = False)"
   ]
  },
  {
   "cell_type": "code",
   "execution_count": null,
   "metadata": {},
   "outputs": [],
   "source": []
  }
 ],
 "metadata": {
  "kernelspec": {
   "display_name": "Python 3",
   "language": "python",
   "name": "python3"
  },
  "language_info": {
   "codemirror_mode": {
    "name": "ipython",
    "version": 3
   },
   "file_extension": ".py",
   "mimetype": "text/x-python",
   "name": "python",
   "nbconvert_exporter": "python",
   "pygments_lexer": "ipython3",
   "version": "3.7.4"
  }
 },
 "nbformat": 4,
 "nbformat_minor": 2
}
